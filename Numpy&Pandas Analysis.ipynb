
%matplotlib inline




import pandas as pd
import numpy as np
import seaborn as sns

from matplotlib import pyplot as plt
plt.style.use('ggplot')



##### import csv
df = pd.read_csv('airbnb_new_.csv',index_col=0)

##### check
df.head


### Freq of NA

df.isnull()


#missing in rows and columns
missing_rows = df.isnull().sum(axis=1)>0
df.loc[missing_rows]


missing_columns = df.isnull().sum(axis=0)>0
df.loc[:,missing_columns]


#drop all rows and column with all NA
df.dropna(axis=0, how='all')


#Analysis of Islands
group = df.groupby('location')

print(type(group))

for item in group:
    print (item)
    

for key, values in group:
    print(key) #this indicates the grouping
    print('-'*70)
    print(values) #this is a dataframe for that 
    print('\n')
    
### boxplots   
df_score = df[['location', 'feat_amenities']] 
df_score.boxplot(by='location', column='feat_amenities')
plt.ylabel('featured amenities')
    

df_score = df[['location', 'rental_age']] 
df_score.boxplot(by='location', column='rental_age')
plt.ylabel('rental_age')


df_score = df[['location', 'host_reviews']] 
df_score.boxplot(by='location', column='host_reviews')
plt.ylabel('Host reviews')


###Seaborn

sns.lmplot("feat_amenities", "host_reviews", df)


sns.lmplot("feat_amenities", "host_reviews", df, hue="same_area", palette="Set2")
